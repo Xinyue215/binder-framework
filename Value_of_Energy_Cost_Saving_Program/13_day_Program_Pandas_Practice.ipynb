{
 "cells": [
  {
   "cell_type": "code",
   "execution_count": 1,
   "id": "d3661f1f",
   "metadata": {},
   "outputs": [
    {
     "name": "stderr",
     "output_type": "stream",
     "text": [
      "/home/kxinyue/.local/lib/python3.8/site-packages/pandas/core/computation/expressions.py:20: UserWarning: Pandas requires version '2.7.3' or newer of 'numexpr' (version '2.7.1' currently installed).\n",
      "  from pandas.core.computation.check import NUMEXPR_INSTALLED\n"
     ]
    }
   ],
   "source": [
    "import pandas as pd"
   ]
  },
  {
   "cell_type": "code",
   "execution_count": 2,
   "id": "cb72c648",
   "metadata": {},
   "outputs": [],
   "source": [
    "df = pd.read_csv('Value_of_Energy_Cost_Savings_Program_Savings_for_Businesses_20231224.csv')"
   ]
  },
  {
   "cell_type": "markdown",
   "id": "4daa40dd",
   "metadata": {},
   "source": [
    "# DAY 4"
   ]
  },
  {
   "cell_type": "code",
   "execution_count": 3,
   "id": "2501b95b",
   "metadata": {},
   "outputs": [
    {
     "data": {
      "text/html": [
       "<div>\n",
       "<style scoped>\n",
       "    .dataframe tbody tr th:only-of-type {\n",
       "        vertical-align: middle;\n",
       "    }\n",
       "\n",
       "    .dataframe tbody tr th {\n",
       "        vertical-align: top;\n",
       "    }\n",
       "\n",
       "    .dataframe thead th {\n",
       "        text-align: right;\n",
       "    }\n",
       "</style>\n",
       "<table border=\"1\" class=\"dataframe\">\n",
       "  <thead>\n",
       "    <tr style=\"text-align: right;\">\n",
       "      <th></th>\n",
       "      <th>Period</th>\n",
       "      <th>Company Name</th>\n",
       "      <th>company contact</th>\n",
       "      <th>company email</th>\n",
       "      <th>company phone</th>\n",
       "      <th>Address</th>\n",
       "      <th>City</th>\n",
       "      <th>State</th>\n",
       "      <th>Postcode</th>\n",
       "      <th>Industry</th>\n",
       "      <th>...</th>\n",
       "      <th>Electric Savings</th>\n",
       "      <th>Borough</th>\n",
       "      <th>Latitude</th>\n",
       "      <th>Longitude</th>\n",
       "      <th>Community Board</th>\n",
       "      <th>Council District</th>\n",
       "      <th>BIN</th>\n",
       "      <th>BBL</th>\n",
       "      <th>Census Tract (2020)</th>\n",
       "      <th>Neighborhood Tabulation Area (NTA) (2020)</th>\n",
       "    </tr>\n",
       "  </thead>\n",
       "  <tbody>\n",
       "    <tr>\n",
       "      <th>0</th>\n",
       "      <td>FY2018</td>\n",
       "      <td>139 ACA Realty, Inc.</td>\n",
       "      <td>Eitan Chandally</td>\n",
       "      <td>barbara@dial7.com</td>\n",
       "      <td>7187076123</td>\n",
       "      <td>43-23 35th Street</td>\n",
       "      <td>Long Island City</td>\n",
       "      <td>NY</td>\n",
       "      <td>11101</td>\n",
       "      <td>Commercial</td>\n",
       "      <td>...</td>\n",
       "      <td>NaN</td>\n",
       "      <td>QUEENS</td>\n",
       "      <td>40.745706</td>\n",
       "      <td>-73.929565</td>\n",
       "      <td>402.0</td>\n",
       "      <td>26.0</td>\n",
       "      <td>4003160.0</td>\n",
       "      <td>4.002220e+09</td>\n",
       "      <td>17902.0</td>\n",
       "      <td>QN0202</td>\n",
       "    </tr>\n",
       "    <tr>\n",
       "      <th>1</th>\n",
       "      <td>FY2018</td>\n",
       "      <td>141 Lake Avenue Realty c/o JR Produce, Inc.</td>\n",
       "      <td>Josef Raz</td>\n",
       "      <td>jrproduce@gmail.com</td>\n",
       "      <td>7183708782</td>\n",
       "      <td>141 Lake Avenue</td>\n",
       "      <td>Staten Island</td>\n",
       "      <td>NY</td>\n",
       "      <td>10303</td>\n",
       "      <td>Wholesale/Warehouse/Distribution</td>\n",
       "      <td>...</td>\n",
       "      <td>NaN</td>\n",
       "      <td>STATEN IS</td>\n",
       "      <td>40.632845</td>\n",
       "      <td>-74.151048</td>\n",
       "      <td>501.0</td>\n",
       "      <td>49.0</td>\n",
       "      <td>5146740.0</td>\n",
       "      <td>5.011610e+09</td>\n",
       "      <td>239.0</td>\n",
       "      <td>SI0107</td>\n",
       "    </tr>\n",
       "    <tr>\n",
       "      <th>2</th>\n",
       "      <td>FY2018</td>\n",
       "      <td>14-10 123rd Street LLC</td>\n",
       "      <td>Danica/Ivan Drazic</td>\n",
       "      <td>ddrazic@atjelectrical.com</td>\n",
       "      <td>7183210117</td>\n",
       "      <td>14-10 123rd Street</td>\n",
       "      <td>College Point</td>\n",
       "      <td>NY</td>\n",
       "      <td>11356</td>\n",
       "      <td>Commercial</td>\n",
       "      <td>...</td>\n",
       "      <td>NaN</td>\n",
       "      <td>QUEENS</td>\n",
       "      <td>40.785144</td>\n",
       "      <td>-73.844833</td>\n",
       "      <td>407.0</td>\n",
       "      <td>19.0</td>\n",
       "      <td>4098344.0</td>\n",
       "      <td>4.040850e+09</td>\n",
       "      <td>929.0</td>\n",
       "      <td>QN0701</td>\n",
       "    </tr>\n",
       "    <tr>\n",
       "      <th>3</th>\n",
       "      <td>FY2018</td>\n",
       "      <td>183 Lorriane Street LLC</td>\n",
       "      <td>Tom Sapienza</td>\n",
       "      <td>tsapienza@KLCNY.com</td>\n",
       "      <td>2128405588</td>\n",
       "      <td>183 Lorraine Street</td>\n",
       "      <td>Brooklyn</td>\n",
       "      <td>NY</td>\n",
       "      <td>11231</td>\n",
       "      <td>Wholesale/Warehouse/Distribution</td>\n",
       "      <td>...</td>\n",
       "      <td>NaN</td>\n",
       "      <td>BROOKLYN</td>\n",
       "      <td>40.673106</td>\n",
       "      <td>-74.002300</td>\n",
       "      <td>306.0</td>\n",
       "      <td>38.0</td>\n",
       "      <td>3336622.0</td>\n",
       "      <td>3.005720e+09</td>\n",
       "      <td>5302.0</td>\n",
       "      <td>BK0601</td>\n",
       "    </tr>\n",
       "    <tr>\n",
       "      <th>4</th>\n",
       "      <td>FY2018</td>\n",
       "      <td>21st Century Optics, Inc.</td>\n",
       "      <td>Ralph Woythaler</td>\n",
       "      <td>rwoythaler@21st centuryoptics.com</td>\n",
       "      <td>7183922310</td>\n",
       "      <td>47-00 33rd Street</td>\n",
       "      <td>Lond Island City</td>\n",
       "      <td>NY</td>\n",
       "      <td>11101</td>\n",
       "      <td>Manufacturing</td>\n",
       "      <td>...</td>\n",
       "      <td>NaN</td>\n",
       "      <td>QUEENS</td>\n",
       "      <td>40.742386</td>\n",
       "      <td>-73.932148</td>\n",
       "      <td>402.0</td>\n",
       "      <td>26.0</td>\n",
       "      <td>4003447.0</td>\n",
       "      <td>4.002520e+09</td>\n",
       "      <td>19901.0</td>\n",
       "      <td>QN0202</td>\n",
       "    </tr>\n",
       "  </tbody>\n",
       "</table>\n",
       "<p>5 rows × 30 columns</p>\n",
       "</div>"
      ],
      "text/plain": [
       "   Period                                 Company Name     company contact  \\\n",
       "0  FY2018                         139 ACA Realty, Inc.     Eitan Chandally   \n",
       "1  FY2018  141 Lake Avenue Realty c/o JR Produce, Inc.           Josef Raz   \n",
       "2  FY2018                       14-10 123rd Street LLC  Danica/Ivan Drazic   \n",
       "3  FY2018                      183 Lorriane Street LLC        Tom Sapienza   \n",
       "4  FY2018                    21st Century Optics, Inc.     Ralph Woythaler   \n",
       "\n",
       "                       company email company phone              Address  \\\n",
       "0                  barbara@dial7.com    7187076123    43-23 35th Street   \n",
       "1                jrproduce@gmail.com    7183708782      141 Lake Avenue   \n",
       "2          ddrazic@atjelectrical.com    7183210117   14-10 123rd Street   \n",
       "3                tsapienza@KLCNY.com    2128405588  183 Lorraine Street   \n",
       "4  rwoythaler@21st centuryoptics.com    7183922310    47-00 33rd Street   \n",
       "\n",
       "               City State  Postcode                          Industry  ...  \\\n",
       "0  Long Island City    NY     11101                        Commercial  ...   \n",
       "1     Staten Island    NY     10303  Wholesale/Warehouse/Distribution  ...   \n",
       "2     College Point    NY     11356                        Commercial  ...   \n",
       "3          Brooklyn    NY     11231  Wholesale/Warehouse/Distribution  ...   \n",
       "4  Lond Island City    NY     11101                     Manufacturing  ...   \n",
       "\n",
       "  Electric Savings    Borough   Latitude  Longitude  Community Board  \\\n",
       "0              NaN     QUEENS  40.745706 -73.929565            402.0   \n",
       "1              NaN  STATEN IS  40.632845 -74.151048            501.0   \n",
       "2              NaN     QUEENS  40.785144 -73.844833            407.0   \n",
       "3              NaN   BROOKLYN  40.673106 -74.002300            306.0   \n",
       "4              NaN     QUEENS  40.742386 -73.932148            402.0   \n",
       "\n",
       "  Council District        BIN           BBL  Census Tract (2020)  \\\n",
       "0             26.0  4003160.0  4.002220e+09              17902.0   \n",
       "1             49.0  5146740.0  5.011610e+09                239.0   \n",
       "2             19.0  4098344.0  4.040850e+09                929.0   \n",
       "3             38.0  3336622.0  3.005720e+09               5302.0   \n",
       "4             26.0  4003447.0  4.002520e+09              19901.0   \n",
       "\n",
       "   Neighborhood Tabulation Area (NTA) (2020)  \n",
       "0                                     QN0202  \n",
       "1                                     SI0107  \n",
       "2                                     QN0701  \n",
       "3                                     BK0601  \n",
       "4                                     QN0202  \n",
       "\n",
       "[5 rows x 30 columns]"
      ]
     },
     "execution_count": 3,
     "metadata": {},
     "output_type": "execute_result"
    }
   ],
   "source": [
    "df.head()"
   ]
  },
  {
   "cell_type": "markdown",
   "id": "a39ed87a",
   "metadata": {},
   "source": [
    "* How many different companies are represented in the data set?"
   ]
  },
  {
   "cell_type": "code",
   "execution_count": 4,
   "id": "083679d8",
   "metadata": {},
   "outputs": [],
   "source": [
    "N_companies = df['Company Name'].nunique()"
   ]
  },
  {
   "cell_type": "markdown",
   "id": "314f752a",
   "metadata": {},
   "source": [
    "* What is the total number of jobs created for businesses in Queens?"
   ]
  },
  {
   "cell_type": "code",
   "execution_count": 5,
   "id": "f1a220de",
   "metadata": {},
   "outputs": [],
   "source": [
    "N_jobs_Queens = df[df['Borough'] == 'QUEENS']['Job created'].sum()\n"
   ]
  },
  {
   "cell_type": "markdown",
   "id": "dfd33688",
   "metadata": {},
   "source": [
    "* How many different unique email domains names are there in the data set?"
   ]
  },
  {
   "cell_type": "code",
   "execution_count": 6,
   "id": "917daa5d",
   "metadata": {},
   "outputs": [],
   "source": [
    "emails = df['company email']\n",
    "domains = emails.str.split('@').str[1]\n",
    "N_unique_domain = domains.nunique()"
   ]
  },
  {
   "cell_type": "markdown",
   "id": "149c198d",
   "metadata": {},
   "source": [
    "* Considering only NTAs with at least 5 listed businesses, what is the average total savings and the total jobs created for each NTA? "
   ]
  },
  {
   "cell_type": "code",
   "execution_count": 7,
   "id": "161b6c07",
   "metadata": {},
   "outputs": [],
   "source": [
    "df_NTA = df.groupby(['Neighborhood Tabulation Area (NTA) (2020)']).agg({'Total Savings':'mean', 'Job created':'sum'})"
   ]
  },
  {
   "cell_type": "code",
   "execution_count": 8,
   "id": "8a399054",
   "metadata": {},
   "outputs": [
    {
     "name": "stderr",
     "output_type": "stream",
     "text": [
      "/tmp/ipykernel_1391581/2471725676.py:1: UserWarning: Boolean Series key will be reindexed to match DataFrame index.\n",
      "  df_NTA_5 = df_NTA[df['Neighborhood Tabulation Area (NTA) (2020)'].value_counts() >= 5]\n"
     ]
    }
   ],
   "source": [
    "df_NTA_5 = df_NTA[df['Neighborhood Tabulation Area (NTA) (2020)'].value_counts() >= 5]"
   ]
  },
  {
   "cell_type": "code",
   "execution_count": 9,
   "id": "4289e271",
   "metadata": {},
   "outputs": [
    {
     "data": {
      "text/html": [
       "<div>\n",
       "<style scoped>\n",
       "    .dataframe tbody tr th:only-of-type {\n",
       "        vertical-align: middle;\n",
       "    }\n",
       "\n",
       "    .dataframe tbody tr th {\n",
       "        vertical-align: top;\n",
       "    }\n",
       "\n",
       "    .dataframe thead th {\n",
       "        text-align: right;\n",
       "    }\n",
       "</style>\n",
       "<table border=\"1\" class=\"dataframe\">\n",
       "  <thead>\n",
       "    <tr style=\"text-align: right;\">\n",
       "      <th></th>\n",
       "      <th>Total Savings</th>\n",
       "      <th>Job created</th>\n",
       "    </tr>\n",
       "    <tr>\n",
       "      <th>Neighborhood Tabulation Area (NTA) (2020)</th>\n",
       "      <th></th>\n",
       "      <th></th>\n",
       "    </tr>\n",
       "  </thead>\n",
       "  <tbody>\n",
       "    <tr>\n",
       "      <th>BK0101</th>\n",
       "      <td>10367.961795</td>\n",
       "      <td>16.0</td>\n",
       "    </tr>\n",
       "    <tr>\n",
       "      <th>BK0102</th>\n",
       "      <td>12599.753333</td>\n",
       "      <td>15.0</td>\n",
       "    </tr>\n",
       "    <tr>\n",
       "      <th>BK0103</th>\n",
       "      <td>19150.922857</td>\n",
       "      <td>0.0</td>\n",
       "    </tr>\n",
       "    <tr>\n",
       "      <th>BK0104</th>\n",
       "      <td>21158.253077</td>\n",
       "      <td>187.0</td>\n",
       "    </tr>\n",
       "    <tr>\n",
       "      <th>BK0201</th>\n",
       "      <td>15102.036364</td>\n",
       "      <td>0.0</td>\n",
       "    </tr>\n",
       "  </tbody>\n",
       "</table>\n",
       "</div>"
      ],
      "text/plain": [
       "                                           Total Savings  Job created\n",
       "Neighborhood Tabulation Area (NTA) (2020)                            \n",
       "BK0101                                      10367.961795         16.0\n",
       "BK0102                                      12599.753333         15.0\n",
       "BK0103                                      19150.922857          0.0\n",
       "BK0104                                      21158.253077        187.0\n",
       "BK0201                                      15102.036364          0.0"
      ]
     },
     "execution_count": 9,
     "metadata": {},
     "output_type": "execute_result"
    }
   ],
   "source": [
    "df_NTA_5.head()"
   ]
  },
  {
   "cell_type": "code",
   "execution_count": 10,
   "id": "946c8a66",
   "metadata": {},
   "outputs": [],
   "source": [
    "df_NTA_5.to_csv('NTA.csv')"
   ]
  },
  {
   "cell_type": "markdown",
   "id": "b6a1cad3",
   "metadata": {},
   "source": [
    "# DAY 5"
   ]
  },
  {
   "cell_type": "markdown",
   "id": "9f01a3ff",
   "metadata": {},
   "source": [
    "* scatter plot of jobs created versus average savings. Use both a standard and a logarithmic scale for the average savings. \n",
    "#### average savings: Savings per day\n"
   ]
  },
  {
   "cell_type": "code",
   "execution_count": 11,
   "id": "a364edd1",
   "metadata": {},
   "outputs": [],
   "source": [
    "import matplotlib.pyplot as plt"
   ]
  },
  {
   "cell_type": "code",
   "execution_count": 12,
   "id": "74471ab5",
   "metadata": {},
   "outputs": [
    {
     "data": {
      "text/plain": [
       "Index(['Period', 'Company Name', 'company contact', 'company email',\n",
       "       'company phone', 'Address', 'City', 'State', 'Postcode', 'Industry',\n",
       "       'Industry descr', 'Company Type', 'Current fulltime', 'Job created',\n",
       "       'Job retain', 'Effective Date', 'Total Savings',\n",
       "       'Savings from beginning receiving benefits', 'Gas Savings',\n",
       "       'Cogen savings', 'Electric Savings', 'Borough', 'Latitude', 'Longitude',\n",
       "       'Community Board', 'Council District', 'BIN', 'BBL',\n",
       "       'Census Tract (2020)', 'Neighborhood Tabulation Area (NTA) (2020)'],\n",
       "      dtype='object')"
      ]
     },
     "execution_count": 12,
     "metadata": {},
     "output_type": "execute_result"
    }
   ],
   "source": [
    "df.columns"
   ]
  },
  {
   "cell_type": "code",
   "execution_count": 13,
   "id": "b742c5c1",
   "metadata": {},
   "outputs": [],
   "source": [
    "from datetime import datetime\n",
    "\n",
    "# Function to calculate days from effective date until July 6, 2023 (the last time the form was updated)\n",
    "def days_between_dates(effective_date):\n",
    "    # Convert strings to datetime objects\n",
    "    date_format = \"%m/%d/%Y\"\n",
    "    datetime1 = datetime.strptime(effective_date, date_format)\n",
    "    datetime2 = datetime.strptime('07/06/2023', date_format)\n",
    "\n",
    "    # Calculate the difference in days\n",
    "    difference = datetime2 - datetime1\n",
    "    return difference.days\n",
    "\n",
    "df['Days Since Effective Date'] = df['Effective Date'].apply(lambda x: days_between_dates(x))"
   ]
  },
  {
   "cell_type": "code",
   "execution_count": 14,
   "id": "982715a0",
   "metadata": {},
   "outputs": [
    {
     "data": {
      "image/png": "[encoded data removed]",
      "text/plain": [
       "<Figure size 1080x504 with 2 Axes>"
      ]
     },
     "metadata": {
      "needs_background": "light"
     },
     "output_type": "display_data"
    }
   ],
   "source": [
    "fig = plt.figure(figsize = (15, 7))\n",
    "plt.rcParams.update({'font.size': 15})\n",
    "ax1 = fig.add_subplot(121)\n",
    "ax1.scatter(df['Job created'], df['Total Savings']/df['Days Since Effective Date']);\n",
    "ax1.set(xlabel = 'Jobs Created', ylabel = 'Average Savings per Day', title = 'Linear Scale Average Savings (y-axis)', \n",
    "        xscale = 'log')\n",
    "ax2 = fig.add_subplot(122)\n",
    "ax2.scatter(df['Job created'], df['Total Savings']/df['Days Since Effective Date']);\n",
    "ax2.set(xlabel = 'Jobs Created', ylabel = 'Average Savings per Day', yscale = 'log', xscale = 'log',\n",
    "        ylim = (1e-4,1e3), title = 'Log Scale Average Savings (y-axis)');\n"
   ]
  },
  {
   "cell_type": "markdown",
   "id": "a8a6be9b",
   "metadata": {},
   "source": [
    "* histogram of the log of the average total savings."
   ]
  },
  {
   "cell_type": "code",
   "execution_count": 15,
   "id": "6ae2e538",
   "metadata": {},
   "outputs": [
    {
     "name": "stderr",
     "output_type": "stream",
     "text": [
      "/home/kxinyue/.local/lib/python3.8/site-packages/pandas/core/arraylike.py:402: RuntimeWarning: invalid value encountered in log10\n",
      "  result = getattr(ufunc, method)(*inputs, **kwargs)\n"
     ]
    },
    {
     "data": {
      "image/png": "[encoded data removed]",
      "text/plain": [
       "<Figure size 648x504 with 1 Axes>"
      ]
     },
     "metadata": {
      "needs_background": "light"
     },
     "output_type": "display_data"
    }
   ],
   "source": [
    "import numpy as np\n",
    "fig = plt.figure(figsize = (9,7))\n",
    "average_savings = df['Total Savings']/df['Days Since Effective Date']\n",
    "mask1 = np.isnan(average_savings)\n",
    "mask2 = average_savings == 0\n",
    "plt.hist(np.log10(average_savings[(~mask1) & (~mask2)]),bins = 50, histtype = 'step');\n",
    "plt.xlabel('log10(Average Savings per Day)')\n",
    "plt.ylabel('Counts')\n",
    "plt.title('Average Savings')\n",
    "plt.grid()\n"
   ]
  },
  {
   "cell_type": "markdown",
   "id": "8405a862",
   "metadata": {},
   "source": [
    "* line plot of the total jobs created for each month."
   ]
  },
  {
   "cell_type": "code",
   "execution_count": 16,
   "id": "79a43c3f",
   "metadata": {},
   "outputs": [],
   "source": [
    "df['Effective Month'] = df['Effective Date'].str[6:] + '/' + df['Effective Date'].str[:2]\n",
    "df_jobs_month = df.groupby('Effective Month').agg({'Job created':'sum'})"
   ]
  },
  {
   "cell_type": "code",
   "execution_count": 17,
   "id": "796506ef",
   "metadata": {},
   "outputs": [],
   "source": [
    "df_jobs_month.reset_index(inplace=True)"
   ]
  },
  {
   "cell_type": "code",
   "execution_count": 18,
   "id": "bbd6d405",
   "metadata": {},
   "outputs": [
    {
     "data": {
      "text/html": [
       "<div>\n",
       "<style scoped>\n",
       "    .dataframe tbody tr th:only-of-type {\n",
       "        vertical-align: middle;\n",
       "    }\n",
       "\n",
       "    .dataframe tbody tr th {\n",
       "        vertical-align: top;\n",
       "    }\n",
       "\n",
       "    .dataframe thead th {\n",
       "        text-align: right;\n",
       "    }\n",
       "</style>\n",
       "<table border=\"1\" class=\"dataframe\">\n",
       "  <thead>\n",
       "    <tr style=\"text-align: right;\">\n",
       "      <th></th>\n",
       "      <th>Effective Month</th>\n",
       "      <th>Job created</th>\n",
       "    </tr>\n",
       "  </thead>\n",
       "  <tbody>\n",
       "    <tr>\n",
       "      <th>0</th>\n",
       "      <td>1993/02</td>\n",
       "      <td>25.0</td>\n",
       "    </tr>\n",
       "    <tr>\n",
       "      <th>1</th>\n",
       "      <td>1993/04</td>\n",
       "      <td>10.0</td>\n",
       "    </tr>\n",
       "    <tr>\n",
       "      <th>2</th>\n",
       "      <td>1994/04</td>\n",
       "      <td>15.0</td>\n",
       "    </tr>\n",
       "    <tr>\n",
       "      <th>3</th>\n",
       "      <td>1998/10</td>\n",
       "      <td>17.0</td>\n",
       "    </tr>\n",
       "    <tr>\n",
       "      <th>4</th>\n",
       "      <td>2000/04</td>\n",
       "      <td>0.0</td>\n",
       "    </tr>\n",
       "  </tbody>\n",
       "</table>\n",
       "</div>"
      ],
      "text/plain": [
       "  Effective Month  Job created\n",
       "0         1993/02         25.0\n",
       "1         1993/04         10.0\n",
       "2         1994/04         15.0\n",
       "3         1998/10         17.0\n",
       "4         2000/04          0.0"
      ]
     },
     "execution_count": 18,
     "metadata": {},
     "output_type": "execute_result"
    }
   ],
   "source": [
    "df_jobs_month.head()"
   ]
  },
  {
   "cell_type": "code",
   "execution_count": 19,
   "id": "e9e270af",
   "metadata": {},
   "outputs": [
    {
     "data": {
      "text/html": [
       "\n",
       "<style>\n",
       "  #altair-viz-58598efc53874a75b59767b91ef641e7.vega-embed {\n",
       "    width: 100%;\n",
       "    display: flex;\n",
       "  }\n",
       "\n",
       "  #altair-viz-58598efc53874a75b59767b91ef641e7.vega-embed details,\n",
       "  #altair-viz-58598efc53874a75b59767b91ef641e7.vega-embed details summary {\n",
       "    position: relative;\n",
       "  }\n",
       "</style>\n",
       "<div id=\"altair-viz-58598efc53874a75b59767b91ef641e7\"></div>\n",
       "<script type=\"text/javascript\">\n",
       "  var VEGA_DEBUG = (typeof VEGA_DEBUG == \"undefined\") ? {} : VEGA_DEBUG;\n",
       "  (function(spec, embedOpt){\n",
       "    let outputDiv = document.currentScript.previousElementSibling;\n",
       "    if (outputDiv.id !== \"altair-viz-58598efc53874a75b59767b91ef641e7\") {\n",
       "      outputDiv = document.getElementById(\"altair-viz-58598efc53874a75b59767b91ef641e7\");\n",
       "    }\n",
       "    const paths = {\n",
       "      \"vega\": \"https://cdn.jsdelivr.net/npm/vega@5?noext\",\n",
       "      \"vega-lib\": \"https://cdn.jsdelivr.net/npm/vega-lib?noext\",\n",
       "      \"vega-lite\": \"https://cdn.jsdelivr.net/npm/vega-lite@5.16.3?noext\",\n",
       "      \"vega-embed\": \"https://cdn.jsdelivr.net/npm/vega-embed@6?noext\",\n",
       "    };\n",
       "\n",
       "    function maybeLoadScript(lib, version) {\n",
       "      var key = `${lib.replace(\"-\", \"\")}_version`;\n",
       "      return (VEGA_DEBUG[key] == version) ?\n",
       "        Promise.resolve(paths[lib]) :\n",
       "        new Promise(function(resolve, reject) {\n",
       "          var s = document.createElement('script');\n",
       "          document.getElementsByTagName(\"head\")[0].appendChild(s);\n",
       "          s.async = true;\n",
       "          s.onload = () => {\n",
       "            VEGA_DEBUG[key] = version;\n",
       "            return resolve(paths[lib]);\n",
       "          };\n",
       "          s.onerror = () => reject(`Error loading script: ${paths[lib]}`);\n",
       "          s.src = paths[lib];\n",
       "        });\n",
       "    }\n",
       "\n",
       "    function showError(err) {\n",
       "      outputDiv.innerHTML = `<div class=\"error\" style=\"color:red;\">${err}</div>`;\n",
       "      throw err;\n",
       "    }\n",
       "\n",
       "    function displayChart(vegaEmbed) {\n",
       "      vegaEmbed(outputDiv, spec, embedOpt)\n",
       "        .catch(err => showError(`Javascript Error: ${err.message}<br>This usually means there's a typo in your chart specification. See the javascript console for the full traceback.`));\n",
       "    }\n",
       "\n",
       "    if(typeof define === \"function\" && define.amd) {\n",
       "      requirejs.config({paths});\n",
       "      require([\"vega-embed\"], displayChart, err => showError(`Error loading script: ${err.message}`));\n",
       "    } else {\n",
       "      maybeLoadScript(\"vega\", \"5\")\n",
       "        .then(() => maybeLoadScript(\"vega-lite\", \"5.16.3\"))\n",
       "        .then(() => maybeLoadScript(\"vega-embed\", \"6\"))\n",
       "        .catch(showError)\n",
       "        .then(() => displayChart(vegaEmbed));\n",
       "    }\n",
       "  })({\"config\": {\"view\": {\"continuousWidth\": 300, \"continuousHeight\": 300}}, \"data\": {\"name\": \"data-ad18bf6a30e12358d5a3fff301f6ef9e\"}, \"mark\": {\"type\": \"line\"}, \"encoding\": {\"x\": {\"field\": \"Effective Month\", \"type\": \"nominal\"}, \"y\": {\"field\": \"Job created\", \"type\": \"quantitative\"}}, \"$schema\": \"https://vega.github.io/schema/vega-lite/v5.16.3.json\", \"datasets\": {\"data-ad18bf6a30e12358d5a3fff301f6ef9e\": [{\"Effective Month\": \"1993/02\", \"Job created\": 25.0}, {\"Effective Month\": \"1993/04\", \"Job created\": 10.0}, {\"Effective Month\": \"1994/04\", \"Job created\": 15.0}, {\"Effective Month\": \"1998/10\", \"Job created\": 17.0}, {\"Effective Month\": \"2000/04\", \"Job created\": 0.0}, {\"Effective Month\": \"2000/11\", \"Job created\": 0.0}, {\"Effective Month\": \"2001/04\", \"Job created\": 20.0}, {\"Effective Month\": \"2002/10\", \"Job created\": 5.0}, {\"Effective Month\": \"2003/07\", \"Job created\": 5.0}, {\"Effective Month\": \"2003/08\", \"Job created\": 0.0}, {\"Effective Month\": \"2003/11\", \"Job created\": 40.0}, {\"Effective Month\": \"2004/03\", \"Job created\": 50.0}, {\"Effective Month\": \"2004/07\", \"Job created\": 82.0}, {\"Effective Month\": \"2004/08\", \"Job created\": 51.0}, {\"Effective Month\": \"2004/09\", \"Job created\": 70.0}, {\"Effective Month\": \"2004/10\", \"Job created\": 444.0}, {\"Effective Month\": \"2004/11\", \"Job created\": 6.0}, {\"Effective Month\": \"2004/12\", \"Job created\": 48.0}, {\"Effective Month\": \"2005/01\", \"Job created\": 9.0}, {\"Effective Month\": \"2005/02\", \"Job created\": 112.0}, {\"Effective Month\": \"2005/03\", \"Job created\": 45.0}, {\"Effective Month\": \"2005/04\", \"Job created\": 12.0}, {\"Effective Month\": \"2005/05\", \"Job created\": 11356.0}, {\"Effective Month\": \"2005/06\", \"Job created\": 20.0}, {\"Effective Month\": \"2005/07\", \"Job created\": 0.0}, {\"Effective Month\": \"2005/08\", \"Job created\": 14.0}, {\"Effective Month\": \"2005/09\", \"Job created\": 40.0}, {\"Effective Month\": \"2005/10\", \"Job created\": 33.0}, {\"Effective Month\": \"2005/11\", \"Job created\": 20.0}, {\"Effective Month\": \"2006/01\", \"Job created\": 118.0}, {\"Effective Month\": \"2006/02\", \"Job created\": 462.0}, {\"Effective Month\": \"2006/03\", \"Job created\": 69.0}, {\"Effective Month\": \"2006/04\", \"Job created\": 50.0}, {\"Effective Month\": \"2006/05\", \"Job created\": 64.0}, {\"Effective Month\": \"2006/06\", \"Job created\": 414.0}, {\"Effective Month\": \"2006/07\", \"Job created\": 12.0}, {\"Effective Month\": \"2006/08\", \"Job created\": 62.0}, {\"Effective Month\": \"2006/09\", \"Job created\": 330.0}, {\"Effective Month\": \"2006/10\", \"Job created\": 84.0}, {\"Effective Month\": \"2006/11\", \"Job created\": 176.0}, {\"Effective Month\": \"2006/12\", \"Job created\": 90.0}, {\"Effective Month\": \"2007/01\", \"Job created\": 102.0}, {\"Effective Month\": \"2007/02\", \"Job created\": 96.0}, {\"Effective Month\": \"2007/03\", \"Job created\": 147.0}, {\"Effective Month\": \"2007/04\", \"Job created\": 64.0}, {\"Effective Month\": \"2007/05\", \"Job created\": 50.0}, {\"Effective Month\": \"2007/06\", \"Job created\": 192.0}, {\"Effective Month\": \"2007/07\", \"Job created\": 100.0}, {\"Effective Month\": \"2007/08\", \"Job created\": 0.0}, {\"Effective Month\": \"2007/09\", \"Job created\": 0.0}, {\"Effective Month\": \"2007/10\", \"Job created\": 0.0}, {\"Effective Month\": \"2007/11\", \"Job created\": 15.0}, {\"Effective Month\": \"2007/12\", \"Job created\": 0.0}, {\"Effective Month\": \"2008/01\", \"Job created\": 0.0}, {\"Effective Month\": \"2008/02\", \"Job created\": 0.0}, {\"Effective Month\": \"2008/03\", \"Job created\": 0.0}, {\"Effective Month\": \"2008/04\", \"Job created\": 0.0}, {\"Effective Month\": \"2008/05\", \"Job created\": 0.0}, {\"Effective Month\": \"2008/06\", \"Job created\": 0.0}, {\"Effective Month\": \"2008/07\", \"Job created\": 0.0}, {\"Effective Month\": \"2008/08\", \"Job created\": 0.0}, {\"Effective Month\": \"2008/09\", \"Job created\": 0.0}, {\"Effective Month\": \"2008/10\", \"Job created\": 0.0}, {\"Effective Month\": \"2008/11\", \"Job created\": 0.0}, {\"Effective Month\": \"2008/12\", \"Job created\": 30.0}, {\"Effective Month\": \"2009/01\", \"Job created\": 0.0}, {\"Effective Month\": \"2009/02\", \"Job created\": 0.0}, {\"Effective Month\": \"2009/03\", \"Job created\": 0.0}, {\"Effective Month\": \"2009/04\", \"Job created\": 0.0}, {\"Effective Month\": \"2009/06\", \"Job created\": 0.0}, {\"Effective Month\": \"2009/07\", \"Job created\": 0.0}, {\"Effective Month\": \"2009/08\", \"Job created\": 0.0}, {\"Effective Month\": \"2009/09\", \"Job created\": 0.0}, {\"Effective Month\": \"2009/10\", \"Job created\": 0.0}, {\"Effective Month\": \"2009/11\", \"Job created\": 0.0}, {\"Effective Month\": \"2009/12\", \"Job created\": 0.0}, {\"Effective Month\": \"2010/01\", \"Job created\": 6.0}, {\"Effective Month\": \"2010/02\", \"Job created\": 0.0}, {\"Effective Month\": \"2010/03\", \"Job created\": 0.0}, {\"Effective Month\": \"2010/04\", \"Job created\": 0.0}, {\"Effective Month\": \"2010/05\", \"Job created\": 0.0}, {\"Effective Month\": \"2010/06\", \"Job created\": 0.0}, {\"Effective Month\": \"2010/07\", \"Job created\": 0.0}, {\"Effective Month\": \"2010/08\", \"Job created\": 0.0}, {\"Effective Month\": \"2010/09\", \"Job created\": 0.0}, {\"Effective Month\": \"2010/10\", \"Job created\": 0.0}, {\"Effective Month\": \"2010/11\", \"Job created\": 0.0}, {\"Effective Month\": \"2010/12\", \"Job created\": 0.0}, {\"Effective Month\": \"2011/01\", \"Job created\": 0.0}, {\"Effective Month\": \"2011/02\", \"Job created\": 0.0}, {\"Effective Month\": \"2011/03\", \"Job created\": 0.0}, {\"Effective Month\": \"2011/04\", \"Job created\": 0.0}, {\"Effective Month\": \"2011/05\", \"Job created\": 0.0}, {\"Effective Month\": \"2011/06\", \"Job created\": 0.0}, {\"Effective Month\": \"2011/07\", \"Job created\": 0.0}, {\"Effective Month\": \"2011/09\", \"Job created\": 0.0}, {\"Effective Month\": \"2011/10\", \"Job created\": 0.0}, {\"Effective Month\": \"2011/11\", \"Job created\": 0.0}, {\"Effective Month\": \"2011/12\", \"Job created\": 0.0}, {\"Effective Month\": \"2012/01\", \"Job created\": 0.0}, {\"Effective Month\": \"2012/02\", \"Job created\": 0.0}, {\"Effective Month\": \"2012/03\", \"Job created\": 0.0}, {\"Effective Month\": \"2012/04\", \"Job created\": 0.0}, {\"Effective Month\": \"2012/05\", \"Job created\": 0.0}, {\"Effective Month\": \"2012/06\", \"Job created\": 0.0}, {\"Effective Month\": \"2012/08\", \"Job created\": 0.0}, {\"Effective Month\": \"2012/10\", \"Job created\": 0.0}, {\"Effective Month\": \"2012/11\", \"Job created\": 0.0}, {\"Effective Month\": \"2012/12\", \"Job created\": 0.0}, {\"Effective Month\": \"2013/01\", \"Job created\": 0.0}, {\"Effective Month\": \"2013/02\", \"Job created\": 0.0}, {\"Effective Month\": \"2013/03\", \"Job created\": 0.0}, {\"Effective Month\": \"2013/04\", \"Job created\": 0.0}, {\"Effective Month\": \"2013/05\", \"Job created\": 0.0}, {\"Effective Month\": \"2013/06\", \"Job created\": 0.0}, {\"Effective Month\": \"2013/07\", \"Job created\": 0.0}, {\"Effective Month\": \"2013/08\", \"Job created\": 0.0}, {\"Effective Month\": \"2013/12\", \"Job created\": 0.0}, {\"Effective Month\": \"2014/07\", \"Job created\": 0.0}, {\"Effective Month\": \"2014/08\", \"Job created\": 0.0}, {\"Effective Month\": \"2014/09\", \"Job created\": 0.0}, {\"Effective Month\": \"2014/11\", \"Job created\": 0.0}, {\"Effective Month\": \"2014/12\", \"Job created\": 0.0}, {\"Effective Month\": \"2015/01\", \"Job created\": 0.0}, {\"Effective Month\": \"2015/02\", \"Job created\": 0.0}, {\"Effective Month\": \"2015/03\", \"Job created\": 0.0}, {\"Effective Month\": \"2015/04\", \"Job created\": 0.0}, {\"Effective Month\": \"2015/05\", \"Job created\": 0.0}, {\"Effective Month\": \"2015/06\", \"Job created\": 0.0}, {\"Effective Month\": \"2015/07\", \"Job created\": 0.0}, {\"Effective Month\": \"2015/10\", \"Job created\": 0.0}, {\"Effective Month\": \"2015/11\", \"Job created\": 0.0}, {\"Effective Month\": \"2015/12\", \"Job created\": 0.0}, {\"Effective Month\": \"2016/01\", \"Job created\": 0.0}, {\"Effective Month\": \"2016/02\", \"Job created\": 0.0}, {\"Effective Month\": \"2016/03\", \"Job created\": 0.0}, {\"Effective Month\": \"2016/04\", \"Job created\": 0.0}, {\"Effective Month\": \"2016/05\", \"Job created\": 0.0}, {\"Effective Month\": \"2016/06\", \"Job created\": 0.0}, {\"Effective Month\": \"2016/07\", \"Job created\": 0.0}, {\"Effective Month\": \"2016/09\", \"Job created\": 0.0}, {\"Effective Month\": \"2016/10\", \"Job created\": 0.0}, {\"Effective Month\": \"2016/11\", \"Job created\": 0.0}, {\"Effective Month\": \"2016/12\", \"Job created\": 0.0}, {\"Effective Month\": \"2017/01\", \"Job created\": 0.0}, {\"Effective Month\": \"2017/02\", \"Job created\": 0.0}, {\"Effective Month\": \"2017/03\", \"Job created\": 0.0}, {\"Effective Month\": \"2017/05\", \"Job created\": 0.0}, {\"Effective Month\": \"2017/06\", \"Job created\": 0.0}, {\"Effective Month\": \"2017/07\", \"Job created\": 0.0}, {\"Effective Month\": \"2017/08\", \"Job created\": 0.0}, {\"Effective Month\": \"2017/10\", \"Job created\": 0.0}, {\"Effective Month\": \"2017/11\", \"Job created\": 0.0}, {\"Effective Month\": \"2017/12\", \"Job created\": 0.0}, {\"Effective Month\": \"2018/01\", \"Job created\": 0.0}, {\"Effective Month\": \"2018/02\", \"Job created\": 0.0}, {\"Effective Month\": \"2018/03\", \"Job created\": 0.0}, {\"Effective Month\": \"2018/04\", \"Job created\": 0.0}, {\"Effective Month\": \"2018/06\", \"Job created\": 0.0}, {\"Effective Month\": \"2018/08\", \"Job created\": 0.0}, {\"Effective Month\": \"2018/10\", \"Job created\": 0.0}, {\"Effective Month\": \"2018/11\", \"Job created\": 0.0}, {\"Effective Month\": \"2018/12\", \"Job created\": 0.0}, {\"Effective Month\": \"2019/01\", \"Job created\": 0.0}, {\"Effective Month\": \"2019/02\", \"Job created\": 0.0}, {\"Effective Month\": \"2019/03\", \"Job created\": 0.0}, {\"Effective Month\": \"2019/04\", \"Job created\": 0.0}, {\"Effective Month\": \"2019/05\", \"Job created\": 0.0}, {\"Effective Month\": \"2019/06\", \"Job created\": 0.0}, {\"Effective Month\": \"2019/07\", \"Job created\": 0.0}, {\"Effective Month\": \"2019/08\", \"Job created\": 0.0}, {\"Effective Month\": \"2019/10\", \"Job created\": 0.0}, {\"Effective Month\": \"2019/11\", \"Job created\": 0.0}, {\"Effective Month\": \"2019/12\", \"Job created\": 0.0}, {\"Effective Month\": \"2020/02\", \"Job created\": 0.0}, {\"Effective Month\": \"2020/03\", \"Job created\": 0.0}, {\"Effective Month\": \"2020/04\", \"Job created\": 0.0}, {\"Effective Month\": \"2020/05\", \"Job created\": 0.0}, {\"Effective Month\": \"2020/06\", \"Job created\": 0.0}, {\"Effective Month\": \"2020/07\", \"Job created\": 0.0}, {\"Effective Month\": \"2020/08\", \"Job created\": 0.0}, {\"Effective Month\": \"2020/09\", \"Job created\": 0.0}, {\"Effective Month\": \"2020/10\", \"Job created\": 0.0}, {\"Effective Month\": \"2020/11\", \"Job created\": 0.0}, {\"Effective Month\": \"2020/12\", \"Job created\": 0.0}, {\"Effective Month\": \"2021/01\", \"Job created\": 0.0}, {\"Effective Month\": \"2021/02\", \"Job created\": 0.0}, {\"Effective Month\": \"2021/03\", \"Job created\": 0.0}, {\"Effective Month\": \"2021/04\", \"Job created\": 0.0}, {\"Effective Month\": \"2021/05\", \"Job created\": 0.0}, {\"Effective Month\": \"2021/06\", \"Job created\": 0.0}, {\"Effective Month\": \"2021/07\", \"Job created\": 0.0}, {\"Effective Month\": \"2021/08\", \"Job created\": 0.0}, {\"Effective Month\": \"2021/09\", \"Job created\": 0.0}, {\"Effective Month\": \"2021/10\", \"Job created\": 0.0}, {\"Effective Month\": \"2021/11\", \"Job created\": 0.0}, {\"Effective Month\": \"2021/12\", \"Job created\": 0.0}, {\"Effective Month\": \"2022/01\", \"Job created\": 0.0}, {\"Effective Month\": \"2022/03\", \"Job created\": 0.0}, {\"Effective Month\": \"2022/04\", \"Job created\": 0.0}, {\"Effective Month\": \"2022/05\", \"Job created\": 0.0}, {\"Effective Month\": \"2022/06\", \"Job created\": 0.0}]}}, {\"mode\": \"vega-lite\"});\n",
       "</script>"
      ],
      "text/plain": [
       "alt.Chart(...)"
      ]
     },
     "execution_count": 19,
     "metadata": {},
     "output_type": "execute_result"
    }
   ],
   "source": [
    "import altair as alt\n",
    "alt.renderers.enable('default')\n",
    "alt.Chart(df_jobs_month).mark_line().encode(\n",
    "    x='Effective Month',\n",
    "    y='Job created'\n",
    ")\n"
   ]
  },
  {
   "cell_type": "code",
   "execution_count": null,
   "id": "7153b1c6",
   "metadata": {},
   "outputs": [],
   "source": []
  }
 ],
 "metadata": {
  "kernelspec": {
   "display_name": "Python 3 (ipykernel)",
   "language": "python",
   "name": "python3"
  },
  "language_info": {
   "codemirror_mode": {
    "name": "ipython",
    "version": 3
   },
   "file_extension": ".py",
   "mimetype": "text/x-python",
   "name": "python",
   "nbconvert_exporter": "python",
   "pygments_lexer": "ipython3",
   "version": "3.8.10"
  }
 },
 "nbformat": 4,
 "nbformat_minor": 5
}
